{
  "nbformat": 4,
  "nbformat_minor": 0,
  "metadata": {
    "colab": {
      "provenance": []
    },
    "kernelspec": {
      "name": "python3",
      "display_name": "Python 3"
    },
    "language_info": {
      "name": "python"
    }
  },
  "cells": [
    {
      "cell_type": "code",
      "source": [
        "import numpy as np\n",
        "import pandas as pd\n",
        "import matplotlib.pyplot as plt\n",
        "from sklearn.model_selection import train_test_split\n",
        "import seaborn as sns\n",
        "from scipy import stats\n",
        "from collections import Counter, defaultdict\n",
        "from google.colab import files\n",
        "uploaded = files.upload()\n",
        "import io"
      ],
      "metadata": {
        "id": "opS1XaoYlg3I"
      },
      "execution_count": null,
      "outputs": []
    },
    {
      "cell_type": "code",
      "source": [
        "Data = pd.read_csv(io.BytesIO(uploaded['diabetes.csv']))"
      ],
      "metadata": {
        "id": "tXa8hOkzl0z4"
      },
      "execution_count": 3,
      "outputs": []
    },
    {
      "cell_type": "code",
      "source": [
        "\n",
        "Data.head()"
      ],
      "metadata": {
        "id": "9m_cogHwmAC6"
      },
      "execution_count": null,
      "outputs": []
    },
    {
      "cell_type": "code",
      "source": [
        "New_Columns=[ 'Glucose', 'BloodPressure', 'SkinThickness',\n",
        "       'Insulin', 'BMI', 'DiabetesPedigreeFunction','Age','Pregnancies',  'Outcome']"
      ],
      "metadata": {
        "id": "WO8TxhH-mLju"
      },
      "execution_count": 5,
      "outputs": []
    },
    {
      "cell_type": "code",
      "source": [
        "Data=Data[New_Columns]\n",
        "Data.head()"
      ],
      "metadata": {
        "id": "36Fiw3VsmPSg"
      },
      "execution_count": null,
      "outputs": []
    },
    {
      "cell_type": "code",
      "source": [
        "Data['Glucose'].fillna(Data['Glucose'].mean(), inplace = True)\n",
        "Data['BloodPressure'].fillna(Data['BloodPressure'].mean(), inplace = True)\n",
        "Data['SkinThickness'].fillna(Data['SkinThickness'].median(), inplace = True)\n",
        "Data['Insulin'].fillna(Data['Insulin'].median(), inplace = True)\n",
        "Data['BMI'].fillna(Data['BMI'].median(), inplace = True)"
      ],
      "metadata": {
        "id": "XAE7rZl1mWr2"
      },
      "execution_count": 7,
      "outputs": []
    },
    {
      "cell_type": "code",
      "source": [
        "print(Data.isnull().sum())"
      ],
      "metadata": {
        "id": "f8_lOEjcmbi4"
      },
      "execution_count": null,
      "outputs": []
    },
    {
      "cell_type": "code",
      "source": [
        "Data['Pregnancies'] = pd.cut(Data['Pregnancies'],bins=3,labels=['Small','Medium','Large'])\n",
        "Data['Age'] = pd.cut(Data['Age'],bins=2,labels=['Young','Old'])"
      ],
      "metadata": {
        "id": "L4v78oj_LAsG"
      },
      "execution_count": 9,
      "outputs": []
    },
    {
      "cell_type": "code",
      "source": [
        "Data.head()"
      ],
      "metadata": {
        "id": "SUrepRhoLEYa"
      },
      "execution_count": null,
      "outputs": []
    },
    {
      "cell_type": "code",
      "source": [
        "X=Data\n",
        "X.head()"
      ],
      "metadata": {
        "id": "4urSZjiyLhuo"
      },
      "execution_count": null,
      "outputs": []
    },
    {
      "cell_type": "code",
      "source": [
        "X_train,X_test,Y_train,Y_test = train_test_split(X.iloc[:,:-1],X.iloc[:,-1],test_size = 0.2,random_state = 0)\n",
        "X_train.shape,X_test.shape,Y_train.shape,Y_test.shape"
      ],
      "metadata": {
        "id": "npSx9kuTLnBn"
      },
      "execution_count": null,
      "outputs": []
    },
    {
      "cell_type": "code",
      "source": [
        "X_temp=X_train.copy()\n",
        "X_temp['Outcome']=Y_train"
      ],
      "metadata": {
        "id": "aQQrLXQbLxfz"
      },
      "execution_count": 13,
      "outputs": []
    },
    {
      "cell_type": "code",
      "source": [
        "#Seperating discrete valued features into two groups based on 'Outcome'\n",
        "Class_Data_disc={}\n",
        "Class_Data_disc[0]=X_temp.iloc[:,-3:-1][X_temp['Outcome']==0].values\n",
        "Class_Data_disc[1]=X_temp.iloc[:,-3:-1][X_temp['Outcome']==1].values"
      ],
      "metadata": {
        "id": "3psOYaR4L9HU"
      },
      "execution_count": 14,
      "outputs": []
    },
    {
      "cell_type": "code",
      "source": [
        "#Seperating continuous valued features into two groups based on 'Outcome'\n",
        "Class_Data_con={}\n",
        "Class_Data_con[0]=X_temp.iloc[:,:6][X_temp['Outcome']==0].values\n",
        "Class_Data_con[1]=X_temp.iloc[:,:6][X_temp['Outcome']==1].values"
      ],
      "metadata": {
        "id": "l_XkfoYvMWXi"
      },
      "execution_count": 15,
      "outputs": []
    },
    {
      "cell_type": "code",
      "source": [
        "#Means and Standard deviations of continuous valued features for Outcome=0 and Outcome=1\n",
        "Mean_0=np.mean(Class_Data_con[0],axis=0)\n",
        "Mean_1=np.mean(Class_Data_con[1],axis=0)\n",
        "STD_0=np.std(Class_Data_con[0],axis=0)\n",
        "STD_1=np.std(Class_Data_con[1],axis=0)"
      ],
      "metadata": {
        "id": "g4LeA_02McAJ"
      },
      "execution_count": 16,
      "outputs": []
    },
    {
      "cell_type": "code",
      "source": [
        "Class_0_discrete=Class_Data_disc[0]\n",
        "Class_1_discrete=Class_Data_disc[1]"
      ],
      "metadata": {
        "id": "7vYxqu_4Mg9T"
      },
      "execution_count": 17,
      "outputs": []
    },
    {
      "cell_type": "markdown",
      "source": [
        "Finding Likelihoods for discrete valued features ('Age', 'Pregnancies')"
      ],
      "metadata": {
        "id": "LYbSSz6xM1Bz"
      }
    },
    {
      "cell_type": "code",
      "source": [
        "def occurrences(list1):\n",
        "    no_of_examples = len(list1)\n",
        "    prob = dict(Counter(list1))\n",
        "    for key in prob.keys():\n",
        "        prob[key] = prob[key] / float(no_of_examples)\n",
        "    return prob"
      ],
      "metadata": {
        "id": "AjtKI1m7M3Dt"
      },
      "execution_count": 18,
      "outputs": []
    },
    {
      "cell_type": "code",
      "source": [
        "def frequency_(Class_discrete):\n",
        "    prob_={}\n",
        "    for i in range(Class_discrete.shape[1]):\n",
        "        prob_[i]=occurrences(Class_discrete[:,i])\n",
        "    return(prob_)"
      ],
      "metadata": {
        "id": "4GtjzoQAM94V"
      },
      "execution_count": 19,
      "outputs": []
    },
    {
      "cell_type": "code",
      "source": [
        "def prob_(Class_discrete,X_test):\n",
        "    results = []\n",
        "    for i in range(len(X_test)):\n",
        "        probability=1\n",
        "        new_sample=X_test.iloc[i,-2:]\n",
        "        for j in range(len(new_sample)):\n",
        "            relative_values = frequency_(Class_discrete)[j]\n",
        "            if new_sample[j] in relative_values.keys():\n",
        "                probability *= relative_values[new_sample[j]]\n",
        "            else:probability *= 0\n",
        "        results.append(probability)\n",
        "    return(results)"
      ],
      "metadata": {
        "id": "ZQqA-_GzNA44"
      },
      "execution_count": 20,
      "outputs": []
    },
    {
      "cell_type": "code",
      "source": [
        "prob_1=prob_(Class_1_discrete,X_test)\n",
        "prob_0=prob_(Class_0_discrete,X_test)"
      ],
      "metadata": {
        "id": "mqGzqKKiNEkY"
      },
      "execution_count": 21,
      "outputs": []
    },
    {
      "cell_type": "markdown",
      "source": [
        "Finding Likelihoods for continuous valued features ('Glucose', 'BloodPressure', 'SkinThickness','Insulin', 'BMI', 'DiabetesPedigreeFunction')"
      ],
      "metadata": {
        "id": "2tj4HLplNPit"
      }
    },
    {
      "cell_type": "code",
      "source": [
        "#Gaussian distribution\n",
        "def likelihood(x,mean,sigma):\n",
        "    return np.exp(-(x-mean)**2/(2*sigma**2))*(1/(np.sqrt(2*np.pi)*sigma))"
      ],
      "metadata": {
        "id": "A7SHBSKTNRyx"
      },
      "execution_count": 22,
      "outputs": []
    },
    {
      "cell_type": "code",
      "source": [
        "def posterior(X,X_train_class,mean_,std_):\n",
        "    product=np.prod(likelihood(X,mean_,std_),axis=1)\n",
        "    product=product*(X_train_class.shape[0]/X_train.shape[0])\n",
        "    return product"
      ],
      "metadata": {
        "id": "UgYPVntTNXYU"
      },
      "execution_count": 23,
      "outputs": []
    },
    {
      "cell_type": "markdown",
      "source": [
        "Combining all the likelihoods to get posterior pobabilities"
      ],
      "metadata": {
        "id": "5JxW8kzMNxl2"
      }
    },
    {
      "cell_type": "code",
      "source": [
        "p_1=posterior(X_test.iloc[:,:6],Class_Data_con[1],Mean_1,STD_1)*prob_1\n",
        "p_0=posterior(X_test.iloc[:,:6],Class_Data_con[0],Mean_0,STD_0)*prob_0\n",
        "y_pred=1*(p_1>p_0)"
      ],
      "metadata": {
        "id": "u4MHo6R7Ny64"
      },
      "execution_count": 24,
      "outputs": []
    },
    {
      "cell_type": "code",
      "source": [
        "#Confusion Matrix\n",
        "tp=len([i for i in range(0,Y_test.shape[0]) if Y_test.iloc[i]==1 and y_pred.iloc[i]==1])\n",
        "tn=len([i for i in range(0,Y_test.shape[0]) if Y_test.iloc[i]==0 and y_pred.iloc[i]==0])\n",
        "fp=len([i for i in range(0,Y_test.shape[0]) if Y_test.iloc[i]==0 and y_pred.iloc[i]==1])\n",
        "fn=len([i for i in range(0,Y_test.shape[0]) if Y_test.iloc[i]==1 and y_pred.iloc[i]==0])\n",
        "confusion_matrix=np.array([[tp,fn],[fp,tn]])\n",
        "print(confusion_matrix,type(confusion_matrix))"
      ],
      "metadata": {
        "id": "SuIp6pBrN44z"
      },
      "execution_count": null,
      "outputs": []
    },
    {
      "cell_type": "code",
      "source": [
        "tp=confusion_matrix[0,0]\n",
        "fp=confusion_matrix[1,0]\n",
        "tn=confusion_matrix[1,1]\n",
        "fn=confusion_matrix[0,1]"
      ],
      "metadata": {
        "id": "Ih-dkfTJOKj0"
      },
      "execution_count": 26,
      "outputs": []
    },
    {
      "cell_type": "code",
      "source": [
        "Accuracy=(tp+tn)/(confusion_matrix.sum())*100\n",
        "\n",
        "Precision=tp/(tp+fp)*100\n",
        "\n",
        "\n",
        "print('Accuracy= %.2f'%Accuracy,'\\nPrecision= %.2f'%Precision)"
      ],
      "metadata": {
        "colab": {
          "base_uri": "https://localhost:8080/"
        },
        "id": "jUdsptJcOO3M",
        "outputId": "4068d0f0-8d8e-448b-cc0d-27af73f26514"
      },
      "execution_count": 27,
      "outputs": [
        {
          "output_type": "stream",
          "name": "stdout",
          "text": [
            "Accuracy= 77.27 \n",
            "Precision= 65.00\n"
          ]
        }
      ]
    }
  ]
}
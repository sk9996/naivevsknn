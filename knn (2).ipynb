{
  "nbformat": 4,
  "nbformat_minor": 0,
  "metadata": {
    "colab": {
      "provenance": []
    },
    "kernelspec": {
      "name": "python3",
      "display_name": "Python 3"
    },
    "language_info": {
      "name": "python"
    }
  },
  "cells": [
    {
      "cell_type": "code",
      "execution_count": null,
      "metadata": {
        "id": "JuUa3aqGRtAg"
      },
      "outputs": [],
      "source": [
        "import numpy as np\n",
        "import pandas as pd\n",
        "import matplotlib.pyplot as plt\n",
        "from sklearn.model_selection import train_test_split\n",
        "import seaborn as sns\n",
        "from scipy import stats\n",
        "from google.colab import files\n",
        "uploaded = files.upload()\n",
        "import io"
      ]
    },
    {
      "cell_type": "code",
      "source": [
        "Data = pd.read_csv(io.BytesIO(uploaded['diabetes.csv']))"
      ],
      "metadata": {
        "id": "MfCmL5UNR2zX"
      },
      "execution_count": null,
      "outputs": []
    },
    {
      "cell_type": "code",
      "source": [
        "Data.head()"
      ],
      "metadata": {
        "id": "kNzoU7h6SE0E"
      },
      "execution_count": null,
      "outputs": []
    },
    {
      "cell_type": "code",
      "source": [
        "Data[['Glucose','BloodPressure','SkinThickness','Insulin','BMI']] = Data[['Glucose','BloodPressure','SkinThickness','Insulin','BMI']].replace(0,np.NaN)"
      ],
      "metadata": {
        "id": "5tuggw6NSGxO"
      },
      "execution_count": null,
      "outputs": []
    },
    {
      "cell_type": "code",
      "source": [
        "print(Data.isnull().sum())"
      ],
      "metadata": {
        "id": "UOOkmtodStJL"
      },
      "execution_count": null,
      "outputs": []
    },
    {
      "cell_type": "code",
      "source": [
        "Data['Glucose'].fillna(Data['Glucose'].mean(), inplace = True)\n",
        "Data['BloodPressure'].fillna(Data['BloodPressure'].mean(), inplace = True)\n",
        "Data['SkinThickness'].fillna(Data['SkinThickness'].median(), inplace = True)\n",
        "Data['Insulin'].fillna(Data['Insulin'].median(), inplace = True)\n",
        "Data['BMI'].fillna(Data['BMI'].median(), inplace = True)"
      ],
      "metadata": {
        "id": "omE0-pN9SxB_"
      },
      "execution_count": null,
      "outputs": []
    },
    {
      "cell_type": "code",
      "source": [
        "print(Data.isnull().sum())"
      ],
      "metadata": {
        "id": "pSYazD5VS2GK"
      },
      "execution_count": null,
      "outputs": []
    },
    {
      "cell_type": "code",
      "source": [
        "from sklearn.preprocessing import StandardScaler\n",
        "sc = StandardScaler()\n",
        "X =  pd.DataFrame(sc.fit_transform(Data.drop([\"Outcome\"],axis = 1),),\n",
        "        columns=['Pregnancies', 'Glucose', 'BloodPressure', 'SkinThickness', 'Insulin',\n",
        "       'BMI', 'DiabetesPedigreeFunction', 'Age'])"
      ],
      "metadata": {
        "id": "5T4uuiblS5Vm"
      },
      "execution_count": null,
      "outputs": []
    },
    {
      "cell_type": "code",
      "source": [
        "X.head()"
      ],
      "metadata": {
        "id": "YEePIundS9Bq"
      },
      "execution_count": null,
      "outputs": []
    },
    {
      "cell_type": "code",
      "source": [
        "Y = Data['Outcome']"
      ],
      "metadata": {
        "id": "LWuPfMpkTAGU"
      },
      "execution_count": null,
      "outputs": []
    },
    {
      "cell_type": "code",
      "source": [
        "X_train,X_test,Y_train,Y_test = train_test_split(X,Y,test_size = 0.2,random_state = 0)\n",
        "X_train.shape,X_test.shape,Y_train.shape,Y_test.shape"
      ],
      "metadata": {
        "id": "vNMtoyfeTDqN"
      },
      "execution_count": null,
      "outputs": []
    },
    {
      "cell_type": "code",
      "source": [
        "\n",
        "import operator\n",
        "\n",
        "#Euclidean Distance\n",
        "def E_Distance(x1, x2):\n",
        "    distance = np.square(x1 - x2)\n",
        "    return np.sqrt(distance.sum(axis=1))\n",
        "\n",
        "# K-NN model\n",
        "def knn(trainingSet_x, testInstance,trainingset_y, k):\n",
        "    dist = E_Distance(trainingSet_x,testInstance)\n",
        "    distances={i:dist.iloc[i] for i in range(len(dist))}\n",
        "    sortdist = sorted(distances.items(), key=operator.itemgetter(1))\n",
        "    row_index=[sortdist[i][0] for i in range(k)]\n",
        "    y_temp=stats.mode(trainingset_y.iloc[row_index].values)\n",
        "    return(y_temp[0][0])\n",
        "\n",
        "# supplying test data to the model\n",
        "k=11\n",
        "y_pred=[]\n",
        "for i in range(len(X_test)):\n",
        "    y_pred.append(knn(X_train, X_test.iloc[i],Y_train, k))\n",
        "print(len(y_pred))"
      ],
      "metadata": {
        "id": "N3buXH1qTII3"
      },
      "execution_count": null,
      "outputs": []
    },
    {
      "cell_type": "code",
      "source": [
        "#Confusion Matrix\n",
        "tp=len([i for i in range(Y_test.shape[0]) if Y_test.iloc[i]==1 and y_pred[i]==1])\n",
        "tn=len([i for i in range(Y_test.shape[0]) if Y_test.iloc[i]==0 and y_pred[i]==0])\n",
        "fp=len([i for i in range(Y_test.shape[0]) if Y_test.iloc[i]==0 and y_pred[i]==1])\n",
        "fn=len([i for i in range(Y_test.shape[0]) if Y_test.iloc[i]==1 and y_pred[i]==0])\n",
        "confusion_matrix=np.array([[tp,fn],[fp,tn]])\n",
        "print(confusion_matrix,type(confusion_matrix))"
      ],
      "metadata": {
        "id": "h1zTie_WT28T"
      },
      "execution_count": null,
      "outputs": []
    },
    {
      "cell_type": "code",
      "source": [
        "tp=confusion_matrix[0,0]\n",
        "fp=confusion_matrix[1,0]\n",
        "tn=confusion_matrix[1,1]\n",
        "fn=confusion_matrix[0,1]\n",
        "\n",
        "Accuracy=(tp+tn)/(confusion_matrix.sum())*100\n",
        "\n",
        "Precision=tp/(tp+fp)*100\n",
        "\n",
        "\n",
        "print('Accuracy= %.2f'%Accuracy,'\\nPrecision= %.2f'%Precision)"
      ],
      "metadata": {
        "id": "OaV_-TU0T7a7"
      },
      "execution_count": null,
      "outputs": []
    }
  ]
}